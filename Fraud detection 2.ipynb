{
 "cells": [
  {
   "cell_type": "code",
   "execution_count": 1,
   "metadata": {},
   "outputs": [
    {
     "data": {
      "text/html": [
       "<div>\n",
       "<style scoped>\n",
       "    .dataframe tbody tr th:only-of-type {\n",
       "        vertical-align: middle;\n",
       "    }\n",
       "\n",
       "    .dataframe tbody tr th {\n",
       "        vertical-align: top;\n",
       "    }\n",
       "\n",
       "    .dataframe thead th {\n",
       "        text-align: right;\n",
       "    }\n",
       "</style>\n",
       "<table border=\"1\" class=\"dataframe\">\n",
       "  <thead>\n",
       "    <tr style=\"text-align: right;\">\n",
       "      <th></th>\n",
       "      <th>step</th>\n",
       "      <th>type</th>\n",
       "      <th>amount</th>\n",
       "      <th>nameOrig</th>\n",
       "      <th>oldbalanceOrg</th>\n",
       "      <th>newbalanceOrig</th>\n",
       "      <th>nameDest</th>\n",
       "      <th>oldbalanceDest</th>\n",
       "      <th>newbalanceDest</th>\n",
       "      <th>isFraud</th>\n",
       "      <th>isFlaggedFraud</th>\n",
       "    </tr>\n",
       "  </thead>\n",
       "  <tbody>\n",
       "    <tr>\n",
       "      <th>0</th>\n",
       "      <td>1</td>\n",
       "      <td>PAYMENT</td>\n",
       "      <td>9839.64</td>\n",
       "      <td>C1231006815</td>\n",
       "      <td>170136.0</td>\n",
       "      <td>160296.36</td>\n",
       "      <td>M1979787155</td>\n",
       "      <td>0.0</td>\n",
       "      <td>0.0</td>\n",
       "      <td>0</td>\n",
       "      <td>0</td>\n",
       "    </tr>\n",
       "    <tr>\n",
       "      <th>1</th>\n",
       "      <td>1</td>\n",
       "      <td>PAYMENT</td>\n",
       "      <td>1864.28</td>\n",
       "      <td>C1666544295</td>\n",
       "      <td>21249.0</td>\n",
       "      <td>19384.72</td>\n",
       "      <td>M2044282225</td>\n",
       "      <td>0.0</td>\n",
       "      <td>0.0</td>\n",
       "      <td>0</td>\n",
       "      <td>0</td>\n",
       "    </tr>\n",
       "    <tr>\n",
       "      <th>2</th>\n",
       "      <td>1</td>\n",
       "      <td>TRANSFER</td>\n",
       "      <td>181.00</td>\n",
       "      <td>C1305486145</td>\n",
       "      <td>181.0</td>\n",
       "      <td>0.00</td>\n",
       "      <td>C553264065</td>\n",
       "      <td>0.0</td>\n",
       "      <td>0.0</td>\n",
       "      <td>1</td>\n",
       "      <td>0</td>\n",
       "    </tr>\n",
       "    <tr>\n",
       "      <th>3</th>\n",
       "      <td>1</td>\n",
       "      <td>CASH_OUT</td>\n",
       "      <td>181.00</td>\n",
       "      <td>C840083671</td>\n",
       "      <td>181.0</td>\n",
       "      <td>0.00</td>\n",
       "      <td>C38997010</td>\n",
       "      <td>21182.0</td>\n",
       "      <td>0.0</td>\n",
       "      <td>1</td>\n",
       "      <td>0</td>\n",
       "    </tr>\n",
       "    <tr>\n",
       "      <th>4</th>\n",
       "      <td>1</td>\n",
       "      <td>PAYMENT</td>\n",
       "      <td>11668.14</td>\n",
       "      <td>C2048537720</td>\n",
       "      <td>41554.0</td>\n",
       "      <td>29885.86</td>\n",
       "      <td>M1230701703</td>\n",
       "      <td>0.0</td>\n",
       "      <td>0.0</td>\n",
       "      <td>0</td>\n",
       "      <td>0</td>\n",
       "    </tr>\n",
       "  </tbody>\n",
       "</table>\n",
       "</div>"
      ],
      "text/plain": [
       "   step      type    amount     nameOrig  oldbalanceOrg  newbalanceOrig  \\\n",
       "0     1   PAYMENT   9839.64  C1231006815       170136.0       160296.36   \n",
       "1     1   PAYMENT   1864.28  C1666544295        21249.0        19384.72   \n",
       "2     1  TRANSFER    181.00  C1305486145          181.0            0.00   \n",
       "3     1  CASH_OUT    181.00   C840083671          181.0            0.00   \n",
       "4     1   PAYMENT  11668.14  C2048537720        41554.0        29885.86   \n",
       "\n",
       "      nameDest  oldbalanceDest  newbalanceDest  isFraud  isFlaggedFraud  \n",
       "0  M1979787155             0.0             0.0        0               0  \n",
       "1  M2044282225             0.0             0.0        0               0  \n",
       "2   C553264065             0.0             0.0        1               0  \n",
       "3    C38997010         21182.0             0.0        1               0  \n",
       "4  M1230701703             0.0             0.0        0               0  "
      ]
     },
     "execution_count": 1,
     "metadata": {},
     "output_type": "execute_result"
    }
   ],
   "source": [
    "import pandas as pd\n",
    "import numpy as np\n",
    "\n",
    "# Graphical presentation\n",
    "from matplotlib import pyplot as plt\n",
    "\n",
    "# Machine learning\n",
    "from sklearn.linear_model import LogisticRegression\n",
    "from sklearn.metrics import accuracy_score\n",
    "\n",
    "# Imbalanced data\n",
    "from imblearn.over_sampling import SMOTE\n",
    "\n",
    "#from sklearn.cross_validation import cross_val_score\n",
    "from sklearn.model_selection import cross_val_score,train_test_split\n",
    "df = pd.read_csv('C:\\\\Users\\\\Yaswanth\\\\Desktop\\\\DSP\\\\Banksegmentation.csv')\n",
    "df.head()"
   ]
  },
  {
   "cell_type": "code",
   "execution_count": 2,
   "metadata": {},
   "outputs": [
    {
     "data": {
      "text/plain": [
       "step              0\n",
       "type              0\n",
       "amount            0\n",
       "nameOrig          0\n",
       "oldbalanceOrg     0\n",
       "newbalanceOrig    0\n",
       "nameDest          0\n",
       "oldbalanceDest    0\n",
       "newbalanceDest    0\n",
       "isFraud           0\n",
       "isFlaggedFraud    0\n",
       "dtype: int64"
      ]
     },
     "execution_count": 2,
     "metadata": {},
     "output_type": "execute_result"
    }
   ],
   "source": [
    "df.isnull().sum()"
   ]
  },
  {
   "cell_type": "code",
   "execution_count": 3,
   "metadata": {},
   "outputs": [
    {
     "data": {
      "text/plain": [
       "Index(['step', 'type', 'amount', 'nameOrig', 'oldbalanceOrg', 'newbalanceOrig',\n",
       "       'nameDest', 'oldbalanceDest', 'newbalanceDest', 'isFraud',\n",
       "       'isFlaggedFraud'],\n",
       "      dtype='object')"
      ]
     },
     "execution_count": 3,
     "metadata": {},
     "output_type": "execute_result"
    }
   ],
   "source": [
    "df.columns"
   ]
  },
  {
   "cell_type": "code",
   "execution_count": 5,
   "metadata": {},
   "outputs": [
    {
     "data": {
      "text/html": [
       "<div>\n",
       "<style scoped>\n",
       "    .dataframe tbody tr th:only-of-type {\n",
       "        vertical-align: middle;\n",
       "    }\n",
       "\n",
       "    .dataframe tbody tr th {\n",
       "        vertical-align: top;\n",
       "    }\n",
       "\n",
       "    .dataframe thead th {\n",
       "        text-align: right;\n",
       "    }\n",
       "</style>\n",
       "<table border=\"1\" class=\"dataframe\">\n",
       "  <thead>\n",
       "    <tr style=\"text-align: right;\">\n",
       "      <th></th>\n",
       "      <th>step</th>\n",
       "      <th>amount</th>\n",
       "      <th>oldbalanceOrg</th>\n",
       "      <th>newbalanceOrig</th>\n",
       "      <th>oldbalanceDest</th>\n",
       "      <th>newbalanceDest</th>\n",
       "      <th>isFraud</th>\n",
       "      <th>isFlaggedFraud</th>\n",
       "    </tr>\n",
       "  </thead>\n",
       "  <tbody>\n",
       "    <tr>\n",
       "      <th>count</th>\n",
       "      <td>6.362620e+06</td>\n",
       "      <td>6.362620e+06</td>\n",
       "      <td>6.362620e+06</td>\n",
       "      <td>6.362620e+06</td>\n",
       "      <td>6.362620e+06</td>\n",
       "      <td>6.362620e+06</td>\n",
       "      <td>6.362620e+06</td>\n",
       "      <td>6.362620e+06</td>\n",
       "    </tr>\n",
       "    <tr>\n",
       "      <th>mean</th>\n",
       "      <td>2.433972e+02</td>\n",
       "      <td>1.798619e+05</td>\n",
       "      <td>8.338831e+05</td>\n",
       "      <td>8.551137e+05</td>\n",
       "      <td>1.100702e+06</td>\n",
       "      <td>1.224996e+06</td>\n",
       "      <td>1.290820e-03</td>\n",
       "      <td>2.514687e-06</td>\n",
       "    </tr>\n",
       "    <tr>\n",
       "      <th>std</th>\n",
       "      <td>1.423320e+02</td>\n",
       "      <td>6.038582e+05</td>\n",
       "      <td>2.888243e+06</td>\n",
       "      <td>2.924049e+06</td>\n",
       "      <td>3.399180e+06</td>\n",
       "      <td>3.674129e+06</td>\n",
       "      <td>3.590480e-02</td>\n",
       "      <td>1.585775e-03</td>\n",
       "    </tr>\n",
       "    <tr>\n",
       "      <th>min</th>\n",
       "      <td>1.000000e+00</td>\n",
       "      <td>0.000000e+00</td>\n",
       "      <td>0.000000e+00</td>\n",
       "      <td>0.000000e+00</td>\n",
       "      <td>0.000000e+00</td>\n",
       "      <td>0.000000e+00</td>\n",
       "      <td>0.000000e+00</td>\n",
       "      <td>0.000000e+00</td>\n",
       "    </tr>\n",
       "    <tr>\n",
       "      <th>25%</th>\n",
       "      <td>1.560000e+02</td>\n",
       "      <td>1.338957e+04</td>\n",
       "      <td>0.000000e+00</td>\n",
       "      <td>0.000000e+00</td>\n",
       "      <td>0.000000e+00</td>\n",
       "      <td>0.000000e+00</td>\n",
       "      <td>0.000000e+00</td>\n",
       "      <td>0.000000e+00</td>\n",
       "    </tr>\n",
       "    <tr>\n",
       "      <th>50%</th>\n",
       "      <td>2.390000e+02</td>\n",
       "      <td>7.487194e+04</td>\n",
       "      <td>1.420800e+04</td>\n",
       "      <td>0.000000e+00</td>\n",
       "      <td>1.327057e+05</td>\n",
       "      <td>2.146614e+05</td>\n",
       "      <td>0.000000e+00</td>\n",
       "      <td>0.000000e+00</td>\n",
       "    </tr>\n",
       "    <tr>\n",
       "      <th>75%</th>\n",
       "      <td>3.350000e+02</td>\n",
       "      <td>2.087215e+05</td>\n",
       "      <td>1.073152e+05</td>\n",
       "      <td>1.442584e+05</td>\n",
       "      <td>9.430367e+05</td>\n",
       "      <td>1.111909e+06</td>\n",
       "      <td>0.000000e+00</td>\n",
       "      <td>0.000000e+00</td>\n",
       "    </tr>\n",
       "    <tr>\n",
       "      <th>max</th>\n",
       "      <td>7.430000e+02</td>\n",
       "      <td>9.244552e+07</td>\n",
       "      <td>5.958504e+07</td>\n",
       "      <td>4.958504e+07</td>\n",
       "      <td>3.560159e+08</td>\n",
       "      <td>3.561793e+08</td>\n",
       "      <td>1.000000e+00</td>\n",
       "      <td>1.000000e+00</td>\n",
       "    </tr>\n",
       "  </tbody>\n",
       "</table>\n",
       "</div>"
      ],
      "text/plain": [
       "               step        amount  oldbalanceOrg  newbalanceOrig  \\\n",
       "count  6.362620e+06  6.362620e+06   6.362620e+06    6.362620e+06   \n",
       "mean   2.433972e+02  1.798619e+05   8.338831e+05    8.551137e+05   \n",
       "std    1.423320e+02  6.038582e+05   2.888243e+06    2.924049e+06   \n",
       "min    1.000000e+00  0.000000e+00   0.000000e+00    0.000000e+00   \n",
       "25%    1.560000e+02  1.338957e+04   0.000000e+00    0.000000e+00   \n",
       "50%    2.390000e+02  7.487194e+04   1.420800e+04    0.000000e+00   \n",
       "75%    3.350000e+02  2.087215e+05   1.073152e+05    1.442584e+05   \n",
       "max    7.430000e+02  9.244552e+07   5.958504e+07    4.958504e+07   \n",
       "\n",
       "       oldbalanceDest  newbalanceDest       isFraud  isFlaggedFraud  \n",
       "count    6.362620e+06    6.362620e+06  6.362620e+06    6.362620e+06  \n",
       "mean     1.100702e+06    1.224996e+06  1.290820e-03    2.514687e-06  \n",
       "std      3.399180e+06    3.674129e+06  3.590480e-02    1.585775e-03  \n",
       "min      0.000000e+00    0.000000e+00  0.000000e+00    0.000000e+00  \n",
       "25%      0.000000e+00    0.000000e+00  0.000000e+00    0.000000e+00  \n",
       "50%      1.327057e+05    2.146614e+05  0.000000e+00    0.000000e+00  \n",
       "75%      9.430367e+05    1.111909e+06  0.000000e+00    0.000000e+00  \n",
       "max      3.560159e+08    3.561793e+08  1.000000e+00    1.000000e+00  "
      ]
     },
     "execution_count": 5,
     "metadata": {},
     "output_type": "execute_result"
    }
   ],
   "source": [
    "df.describe()"
   ]
  },
  {
   "cell_type": "code",
   "execution_count": 6,
   "metadata": {},
   "outputs": [
    {
     "data": {
      "text/plain": [
       "(6362620, 11)"
      ]
     },
     "execution_count": 6,
     "metadata": {},
     "output_type": "execute_result"
    }
   ],
   "source": [
    "df.shape"
   ]
  },
  {
   "cell_type": "code",
   "execution_count": 7,
   "metadata": {
    "scrolled": true
   },
   "outputs": [
    {
     "data": {
      "text/html": [
       "<div>\n",
       "<style scoped>\n",
       "    .dataframe tbody tr th:only-of-type {\n",
       "        vertical-align: middle;\n",
       "    }\n",
       "\n",
       "    .dataframe tbody tr th {\n",
       "        vertical-align: top;\n",
       "    }\n",
       "\n",
       "    .dataframe thead th {\n",
       "        text-align: right;\n",
       "    }\n",
       "</style>\n",
       "<table border=\"1\" class=\"dataframe\">\n",
       "  <thead>\n",
       "    <tr style=\"text-align: right;\">\n",
       "      <th></th>\n",
       "      <th>step</th>\n",
       "      <th>type</th>\n",
       "      <th>amount</th>\n",
       "      <th>oldbalanceOrg</th>\n",
       "      <th>newbalanceOrig</th>\n",
       "      <th>oldbalanceDest</th>\n",
       "      <th>newbalanceDest</th>\n",
       "      <th>isFraud</th>\n",
       "      <th>isFlaggedFraud</th>\n",
       "    </tr>\n",
       "  </thead>\n",
       "  <tbody>\n",
       "    <tr>\n",
       "      <th>0</th>\n",
       "      <td>1</td>\n",
       "      <td>PAYMENT</td>\n",
       "      <td>9839.64</td>\n",
       "      <td>170136.0</td>\n",
       "      <td>160296.36</td>\n",
       "      <td>0.0</td>\n",
       "      <td>0.0</td>\n",
       "      <td>0</td>\n",
       "      <td>0</td>\n",
       "    </tr>\n",
       "    <tr>\n",
       "      <th>1</th>\n",
       "      <td>1</td>\n",
       "      <td>PAYMENT</td>\n",
       "      <td>1864.28</td>\n",
       "      <td>21249.0</td>\n",
       "      <td>19384.72</td>\n",
       "      <td>0.0</td>\n",
       "      <td>0.0</td>\n",
       "      <td>0</td>\n",
       "      <td>0</td>\n",
       "    </tr>\n",
       "    <tr>\n",
       "      <th>2</th>\n",
       "      <td>1</td>\n",
       "      <td>TRANSFER</td>\n",
       "      <td>181.00</td>\n",
       "      <td>181.0</td>\n",
       "      <td>0.00</td>\n",
       "      <td>0.0</td>\n",
       "      <td>0.0</td>\n",
       "      <td>1</td>\n",
       "      <td>0</td>\n",
       "    </tr>\n",
       "    <tr>\n",
       "      <th>3</th>\n",
       "      <td>1</td>\n",
       "      <td>CASH_OUT</td>\n",
       "      <td>181.00</td>\n",
       "      <td>181.0</td>\n",
       "      <td>0.00</td>\n",
       "      <td>21182.0</td>\n",
       "      <td>0.0</td>\n",
       "      <td>1</td>\n",
       "      <td>0</td>\n",
       "    </tr>\n",
       "    <tr>\n",
       "      <th>4</th>\n",
       "      <td>1</td>\n",
       "      <td>PAYMENT</td>\n",
       "      <td>11668.14</td>\n",
       "      <td>41554.0</td>\n",
       "      <td>29885.86</td>\n",
       "      <td>0.0</td>\n",
       "      <td>0.0</td>\n",
       "      <td>0</td>\n",
       "      <td>0</td>\n",
       "    </tr>\n",
       "  </tbody>\n",
       "</table>\n",
       "</div>"
      ],
      "text/plain": [
       "   step      type    amount  oldbalanceOrg  newbalanceOrig  oldbalanceDest  \\\n",
       "0     1   PAYMENT   9839.64       170136.0       160296.36             0.0   \n",
       "1     1   PAYMENT   1864.28        21249.0        19384.72             0.0   \n",
       "2     1  TRANSFER    181.00          181.0            0.00             0.0   \n",
       "3     1  CASH_OUT    181.00          181.0            0.00         21182.0   \n",
       "4     1   PAYMENT  11668.14        41554.0        29885.86             0.0   \n",
       "\n",
       "   newbalanceDest  isFraud  isFlaggedFraud  \n",
       "0             0.0        0               0  \n",
       "1             0.0        0               0  \n",
       "2             0.0        1               0  \n",
       "3             0.0        1               0  \n",
       "4             0.0        0               0  "
      ]
     },
     "execution_count": 7,
     "metadata": {},
     "output_type": "execute_result"
    }
   ],
   "source": [
    "newdf = df.drop(columns = ['nameOrig','nameDest'])\n",
    "newdf.head()"
   ]
  },
  {
   "cell_type": "code",
   "execution_count": 8,
   "metadata": {},
   "outputs": [
    {
     "data": {
      "text/plain": [
       "(6362620, 9)"
      ]
     },
     "execution_count": 8,
     "metadata": {},
     "output_type": "execute_result"
    }
   ],
   "source": [
    "newdf.shape"
   ]
  },
  {
   "cell_type": "code",
   "execution_count": 9,
   "metadata": {},
   "outputs": [
    {
     "data": {
      "text/html": [
       "<div>\n",
       "<style scoped>\n",
       "    .dataframe tbody tr th:only-of-type {\n",
       "        vertical-align: middle;\n",
       "    }\n",
       "\n",
       "    .dataframe tbody tr th {\n",
       "        vertical-align: top;\n",
       "    }\n",
       "\n",
       "    .dataframe thead th {\n",
       "        text-align: right;\n",
       "    }\n",
       "</style>\n",
       "<table border=\"1\" class=\"dataframe\">\n",
       "  <thead>\n",
       "    <tr style=\"text-align: right;\">\n",
       "      <th></th>\n",
       "      <th>step</th>\n",
       "      <th>amount</th>\n",
       "      <th>oldbalanceOrg</th>\n",
       "      <th>newbalanceOrig</th>\n",
       "      <th>oldbalanceDest</th>\n",
       "      <th>newbalanceDest</th>\n",
       "      <th>isFraud</th>\n",
       "      <th>isFlaggedFraud</th>\n",
       "    </tr>\n",
       "  </thead>\n",
       "  <tbody>\n",
       "    <tr>\n",
       "      <th>step</th>\n",
       "      <td>1.000000</td>\n",
       "      <td>0.022373</td>\n",
       "      <td>-0.010058</td>\n",
       "      <td>-0.010299</td>\n",
       "      <td>0.027665</td>\n",
       "      <td>0.025888</td>\n",
       "      <td>0.031578</td>\n",
       "      <td>0.003277</td>\n",
       "    </tr>\n",
       "    <tr>\n",
       "      <th>amount</th>\n",
       "      <td>0.022373</td>\n",
       "      <td>1.000000</td>\n",
       "      <td>-0.002762</td>\n",
       "      <td>-0.007861</td>\n",
       "      <td>0.294137</td>\n",
       "      <td>0.459304</td>\n",
       "      <td>0.076688</td>\n",
       "      <td>0.012295</td>\n",
       "    </tr>\n",
       "    <tr>\n",
       "      <th>oldbalanceOrg</th>\n",
       "      <td>-0.010058</td>\n",
       "      <td>-0.002762</td>\n",
       "      <td>1.000000</td>\n",
       "      <td>0.998803</td>\n",
       "      <td>0.066243</td>\n",
       "      <td>0.042029</td>\n",
       "      <td>0.010154</td>\n",
       "      <td>0.003835</td>\n",
       "    </tr>\n",
       "    <tr>\n",
       "      <th>newbalanceOrig</th>\n",
       "      <td>-0.010299</td>\n",
       "      <td>-0.007861</td>\n",
       "      <td>0.998803</td>\n",
       "      <td>1.000000</td>\n",
       "      <td>0.067812</td>\n",
       "      <td>0.041837</td>\n",
       "      <td>-0.008148</td>\n",
       "      <td>0.003776</td>\n",
       "    </tr>\n",
       "    <tr>\n",
       "      <th>oldbalanceDest</th>\n",
       "      <td>0.027665</td>\n",
       "      <td>0.294137</td>\n",
       "      <td>0.066243</td>\n",
       "      <td>0.067812</td>\n",
       "      <td>1.000000</td>\n",
       "      <td>0.976569</td>\n",
       "      <td>-0.005885</td>\n",
       "      <td>-0.000513</td>\n",
       "    </tr>\n",
       "    <tr>\n",
       "      <th>newbalanceDest</th>\n",
       "      <td>0.025888</td>\n",
       "      <td>0.459304</td>\n",
       "      <td>0.042029</td>\n",
       "      <td>0.041837</td>\n",
       "      <td>0.976569</td>\n",
       "      <td>1.000000</td>\n",
       "      <td>0.000535</td>\n",
       "      <td>-0.000529</td>\n",
       "    </tr>\n",
       "    <tr>\n",
       "      <th>isFraud</th>\n",
       "      <td>0.031578</td>\n",
       "      <td>0.076688</td>\n",
       "      <td>0.010154</td>\n",
       "      <td>-0.008148</td>\n",
       "      <td>-0.005885</td>\n",
       "      <td>0.000535</td>\n",
       "      <td>1.000000</td>\n",
       "      <td>0.044109</td>\n",
       "    </tr>\n",
       "    <tr>\n",
       "      <th>isFlaggedFraud</th>\n",
       "      <td>0.003277</td>\n",
       "      <td>0.012295</td>\n",
       "      <td>0.003835</td>\n",
       "      <td>0.003776</td>\n",
       "      <td>-0.000513</td>\n",
       "      <td>-0.000529</td>\n",
       "      <td>0.044109</td>\n",
       "      <td>1.000000</td>\n",
       "    </tr>\n",
       "  </tbody>\n",
       "</table>\n",
       "</div>"
      ],
      "text/plain": [
       "                    step    amount  oldbalanceOrg  newbalanceOrig  \\\n",
       "step            1.000000  0.022373      -0.010058       -0.010299   \n",
       "amount          0.022373  1.000000      -0.002762       -0.007861   \n",
       "oldbalanceOrg  -0.010058 -0.002762       1.000000        0.998803   \n",
       "newbalanceOrig -0.010299 -0.007861       0.998803        1.000000   \n",
       "oldbalanceDest  0.027665  0.294137       0.066243        0.067812   \n",
       "newbalanceDest  0.025888  0.459304       0.042029        0.041837   \n",
       "isFraud         0.031578  0.076688       0.010154       -0.008148   \n",
       "isFlaggedFraud  0.003277  0.012295       0.003835        0.003776   \n",
       "\n",
       "                oldbalanceDest  newbalanceDest   isFraud  isFlaggedFraud  \n",
       "step                  0.027665        0.025888  0.031578        0.003277  \n",
       "amount                0.294137        0.459304  0.076688        0.012295  \n",
       "oldbalanceOrg         0.066243        0.042029  0.010154        0.003835  \n",
       "newbalanceOrig        0.067812        0.041837 -0.008148        0.003776  \n",
       "oldbalanceDest        1.000000        0.976569 -0.005885       -0.000513  \n",
       "newbalanceDest        0.976569        1.000000  0.000535       -0.000529  \n",
       "isFraud              -0.005885        0.000535  1.000000        0.044109  \n",
       "isFlaggedFraud       -0.000513       -0.000529  0.044109        1.000000  "
      ]
     },
     "execution_count": 9,
     "metadata": {},
     "output_type": "execute_result"
    }
   ],
   "source": [
    "newdf.corr()"
   ]
  },
  {
   "cell_type": "code",
   "execution_count": 11,
   "metadata": {},
   "outputs": [
    {
     "data": {
      "text/plain": [
       "0    6354407\n",
       "1       8213\n",
       "Name: isFraud, dtype: int64"
      ]
     },
     "execution_count": 11,
     "metadata": {},
     "output_type": "execute_result"
    }
   ],
   "source": [
    "newdf['isFraud'].value_counts()"
   ]
  },
  {
   "cell_type": "code",
   "execution_count": 12,
   "metadata": {},
   "outputs": [],
   "source": [
    "X = newdf.iloc[:,[0,2,3,4,5,6]]\n",
    "Y = newdf.iloc[:,-2]"
   ]
  },
  {
   "cell_type": "code",
   "execution_count": 13,
   "metadata": {},
   "outputs": [],
   "source": [
    "notFraud  = newdf[newdf['isFraud'] == 0]"
   ]
  },
  {
   "cell_type": "code",
   "execution_count": 14,
   "metadata": {},
   "outputs": [
    {
     "data": {
      "text/html": [
       "<div>\n",
       "<style scoped>\n",
       "    .dataframe tbody tr th:only-of-type {\n",
       "        vertical-align: middle;\n",
       "    }\n",
       "\n",
       "    .dataframe tbody tr th {\n",
       "        vertical-align: top;\n",
       "    }\n",
       "\n",
       "    .dataframe thead th {\n",
       "        text-align: right;\n",
       "    }\n",
       "</style>\n",
       "<table border=\"1\" class=\"dataframe\">\n",
       "  <thead>\n",
       "    <tr style=\"text-align: right;\">\n",
       "      <th></th>\n",
       "      <th>step</th>\n",
       "      <th>type</th>\n",
       "      <th>amount</th>\n",
       "      <th>oldbalanceOrg</th>\n",
       "      <th>newbalanceOrig</th>\n",
       "      <th>oldbalanceDest</th>\n",
       "      <th>newbalanceDest</th>\n",
       "      <th>isFraud</th>\n",
       "      <th>isFlaggedFraud</th>\n",
       "    </tr>\n",
       "  </thead>\n",
       "  <tbody>\n",
       "    <tr>\n",
       "      <th>0</th>\n",
       "      <td>1</td>\n",
       "      <td>PAYMENT</td>\n",
       "      <td>9839.64</td>\n",
       "      <td>170136.0</td>\n",
       "      <td>160296.36</td>\n",
       "      <td>0.0</td>\n",
       "      <td>0.0</td>\n",
       "      <td>0</td>\n",
       "      <td>0</td>\n",
       "    </tr>\n",
       "    <tr>\n",
       "      <th>1</th>\n",
       "      <td>1</td>\n",
       "      <td>PAYMENT</td>\n",
       "      <td>1864.28</td>\n",
       "      <td>21249.0</td>\n",
       "      <td>19384.72</td>\n",
       "      <td>0.0</td>\n",
       "      <td>0.0</td>\n",
       "      <td>0</td>\n",
       "      <td>0</td>\n",
       "    </tr>\n",
       "    <tr>\n",
       "      <th>4</th>\n",
       "      <td>1</td>\n",
       "      <td>PAYMENT</td>\n",
       "      <td>11668.14</td>\n",
       "      <td>41554.0</td>\n",
       "      <td>29885.86</td>\n",
       "      <td>0.0</td>\n",
       "      <td>0.0</td>\n",
       "      <td>0</td>\n",
       "      <td>0</td>\n",
       "    </tr>\n",
       "    <tr>\n",
       "      <th>5</th>\n",
       "      <td>1</td>\n",
       "      <td>PAYMENT</td>\n",
       "      <td>7817.71</td>\n",
       "      <td>53860.0</td>\n",
       "      <td>46042.29</td>\n",
       "      <td>0.0</td>\n",
       "      <td>0.0</td>\n",
       "      <td>0</td>\n",
       "      <td>0</td>\n",
       "    </tr>\n",
       "    <tr>\n",
       "      <th>6</th>\n",
       "      <td>1</td>\n",
       "      <td>PAYMENT</td>\n",
       "      <td>7107.77</td>\n",
       "      <td>183195.0</td>\n",
       "      <td>176087.23</td>\n",
       "      <td>0.0</td>\n",
       "      <td>0.0</td>\n",
       "      <td>0</td>\n",
       "      <td>0</td>\n",
       "    </tr>\n",
       "  </tbody>\n",
       "</table>\n",
       "</div>"
      ],
      "text/plain": [
       "   step     type    amount  oldbalanceOrg  newbalanceOrig  oldbalanceDest  \\\n",
       "0     1  PAYMENT   9839.64       170136.0       160296.36             0.0   \n",
       "1     1  PAYMENT   1864.28        21249.0        19384.72             0.0   \n",
       "4     1  PAYMENT  11668.14        41554.0        29885.86             0.0   \n",
       "5     1  PAYMENT   7817.71        53860.0        46042.29             0.0   \n",
       "6     1  PAYMENT   7107.77       183195.0       176087.23             0.0   \n",
       "\n",
       "   newbalanceDest  isFraud  isFlaggedFraud  \n",
       "0             0.0        0               0  \n",
       "1             0.0        0               0  \n",
       "4             0.0        0               0  \n",
       "5             0.0        0               0  \n",
       "6             0.0        0               0  "
      ]
     },
     "execution_count": 14,
     "metadata": {},
     "output_type": "execute_result"
    }
   ],
   "source": [
    "notFraud.head()"
   ]
  },
  {
   "cell_type": "code",
   "execution_count": 15,
   "metadata": {},
   "outputs": [
    {
     "data": {
      "text/html": [
       "<div>\n",
       "<style scoped>\n",
       "    .dataframe tbody tr th:only-of-type {\n",
       "        vertical-align: middle;\n",
       "    }\n",
       "\n",
       "    .dataframe tbody tr th {\n",
       "        vertical-align: top;\n",
       "    }\n",
       "\n",
       "    .dataframe thead th {\n",
       "        text-align: right;\n",
       "    }\n",
       "</style>\n",
       "<table border=\"1\" class=\"dataframe\">\n",
       "  <thead>\n",
       "    <tr style=\"text-align: right;\">\n",
       "      <th></th>\n",
       "      <th>step</th>\n",
       "      <th>type</th>\n",
       "      <th>amount</th>\n",
       "      <th>oldbalanceOrg</th>\n",
       "      <th>newbalanceOrig</th>\n",
       "      <th>oldbalanceDest</th>\n",
       "      <th>newbalanceDest</th>\n",
       "      <th>isFraud</th>\n",
       "      <th>isFlaggedFraud</th>\n",
       "    </tr>\n",
       "  </thead>\n",
       "  <tbody>\n",
       "    <tr>\n",
       "      <th>2</th>\n",
       "      <td>1</td>\n",
       "      <td>TRANSFER</td>\n",
       "      <td>181.0</td>\n",
       "      <td>181.0</td>\n",
       "      <td>0.0</td>\n",
       "      <td>0.0</td>\n",
       "      <td>0.0</td>\n",
       "      <td>1</td>\n",
       "      <td>0</td>\n",
       "    </tr>\n",
       "    <tr>\n",
       "      <th>3</th>\n",
       "      <td>1</td>\n",
       "      <td>CASH_OUT</td>\n",
       "      <td>181.0</td>\n",
       "      <td>181.0</td>\n",
       "      <td>0.0</td>\n",
       "      <td>21182.0</td>\n",
       "      <td>0.0</td>\n",
       "      <td>1</td>\n",
       "      <td>0</td>\n",
       "    </tr>\n",
       "    <tr>\n",
       "      <th>251</th>\n",
       "      <td>1</td>\n",
       "      <td>TRANSFER</td>\n",
       "      <td>2806.0</td>\n",
       "      <td>2806.0</td>\n",
       "      <td>0.0</td>\n",
       "      <td>0.0</td>\n",
       "      <td>0.0</td>\n",
       "      <td>1</td>\n",
       "      <td>0</td>\n",
       "    </tr>\n",
       "    <tr>\n",
       "      <th>252</th>\n",
       "      <td>1</td>\n",
       "      <td>CASH_OUT</td>\n",
       "      <td>2806.0</td>\n",
       "      <td>2806.0</td>\n",
       "      <td>0.0</td>\n",
       "      <td>26202.0</td>\n",
       "      <td>0.0</td>\n",
       "      <td>1</td>\n",
       "      <td>0</td>\n",
       "    </tr>\n",
       "    <tr>\n",
       "      <th>680</th>\n",
       "      <td>1</td>\n",
       "      <td>TRANSFER</td>\n",
       "      <td>20128.0</td>\n",
       "      <td>20128.0</td>\n",
       "      <td>0.0</td>\n",
       "      <td>0.0</td>\n",
       "      <td>0.0</td>\n",
       "      <td>1</td>\n",
       "      <td>0</td>\n",
       "    </tr>\n",
       "  </tbody>\n",
       "</table>\n",
       "</div>"
      ],
      "text/plain": [
       "     step      type   amount  oldbalanceOrg  newbalanceOrig  oldbalanceDest  \\\n",
       "2       1  TRANSFER    181.0          181.0             0.0             0.0   \n",
       "3       1  CASH_OUT    181.0          181.0             0.0         21182.0   \n",
       "251     1  TRANSFER   2806.0         2806.0             0.0             0.0   \n",
       "252     1  CASH_OUT   2806.0         2806.0             0.0         26202.0   \n",
       "680     1  TRANSFER  20128.0        20128.0             0.0             0.0   \n",
       "\n",
       "     newbalanceDest  isFraud  isFlaggedFraud  \n",
       "2               0.0        1               0  \n",
       "3               0.0        1               0  \n",
       "251             0.0        1               0  \n",
       "252             0.0        1               0  \n",
       "680             0.0        1               0  "
      ]
     },
     "execution_count": 15,
     "metadata": {},
     "output_type": "execute_result"
    }
   ],
   "source": [
    "fraud = newdf[newdf['isFraud']==1]\n",
    "fraud.head()"
   ]
  },
  {
   "cell_type": "code",
   "execution_count": 16,
   "metadata": {},
   "outputs": [],
   "source": [
    "# spliting data into 80:20\n",
    "\n",
    "X_train,X_test,Y_train,Y_test=train_test_split(X, Y, train_size=0.8,  random_state=100)"
   ]
  },
  {
   "cell_type": "code",
   "execution_count": 17,
   "metadata": {},
   "outputs": [
    {
     "data": {
      "text/plain": [
       "(5090096, 6)"
      ]
     },
     "execution_count": 17,
     "metadata": {},
     "output_type": "execute_result"
    }
   ],
   "source": [
    "X_train.shape"
   ]
  },
  {
   "cell_type": "code",
   "execution_count": 18,
   "metadata": {},
   "outputs": [
    {
     "data": {
      "text/plain": [
       "(1272524, 6)"
      ]
     },
     "execution_count": 18,
     "metadata": {},
     "output_type": "execute_result"
    }
   ],
   "source": [
    "X_test.shape"
   ]
  },
  {
   "cell_type": "code",
   "execution_count": 19,
   "metadata": {},
   "outputs": [
    {
     "data": {
      "text/plain": [
       "(5090096,)"
      ]
     },
     "execution_count": 19,
     "metadata": {},
     "output_type": "execute_result"
    }
   ],
   "source": [
    "Y_train.shape"
   ]
  },
  {
   "cell_type": "code",
   "execution_count": 20,
   "metadata": {},
   "outputs": [
    {
     "data": {
      "text/plain": [
       "0    5083512\n",
       "1       6584\n",
       "Name: isFraud, dtype: int64"
      ]
     },
     "execution_count": 20,
     "metadata": {},
     "output_type": "execute_result"
    }
   ],
   "source": [
    "Y_train.value_counts()"
   ]
  },
  {
   "cell_type": "code",
   "execution_count": 21,
   "metadata": {},
   "outputs": [
    {
     "data": {
      "text/plain": [
       "(1272524,)"
      ]
     },
     "execution_count": 21,
     "metadata": {},
     "output_type": "execute_result"
    }
   ],
   "source": [
    "Y_test.shape"
   ]
  },
  {
   "cell_type": "code",
   "execution_count": 22,
   "metadata": {},
   "outputs": [
    {
     "data": {
      "text/plain": [
       "0    1270895\n",
       "1       1629\n",
       "Name: isFraud, dtype: int64"
      ]
     },
     "execution_count": 22,
     "metadata": {},
     "output_type": "execute_result"
    }
   ],
   "source": [
    "Y_test.value_counts()"
   ]
  },
  {
   "cell_type": "code",
   "execution_count": 23,
   "metadata": {},
   "outputs": [
    {
     "data": {
      "text/plain": [
       "1    5083512\n",
       "0    5083512\n",
       "Name: isFraud, dtype: int64"
      ]
     },
     "execution_count": 23,
     "metadata": {},
     "output_type": "execute_result"
    }
   ],
   "source": [
    "smt = SMOTE(k_neighbors=1)\n",
    "X_train_sm, Y_train_sm = smt.fit_resample(X_train, Y_train)\n",
    "Y_train_sm.value_counts()"
   ]
  },
  {
   "cell_type": "code",
   "execution_count": 24,
   "metadata": {},
   "outputs": [
    {
     "data": {
      "text/plain": [
       "1    1270895\n",
       "0    1270895\n",
       "Name: isFraud, dtype: int64"
      ]
     },
     "execution_count": 24,
     "metadata": {},
     "output_type": "execute_result"
    }
   ],
   "source": [
    "smt = SMOTE(k_neighbors=1)\n",
    "X_test_sm, Y_test_sm = smt.fit_resample(X_test, Y_test)\n",
    "Y_test_sm.value_counts()"
   ]
  },
  {
   "cell_type": "code",
   "execution_count": 27,
   "metadata": {},
   "outputs": [
    {
     "name": "stdout",
     "output_type": "stream",
     "text": [
      "LogisticRegression()\n",
      "model score:: 0.998251702914837\n",
      "[[1.00000000e+000 1.56933018e-132]\n",
      " [1.00000000e+000 1.35316778e-075]\n",
      " [1.00000000e+000 1.75544505e-141]\n",
      " ...\n",
      " [9.99325424e-001 6.74576078e-004]\n",
      " [9.99999269e-001 7.31319408e-007]\n",
      " [9.84337668e-001 1.56623322e-002]]\n",
      "Confusion Matrix\n",
      "[[1269584    1311]\n",
      " [    925     704]]\n"
     ]
    }
   ],
   "source": [
    "from sklearn import preprocessing\n",
    "from sklearn import utils\n",
    "\n",
    "model = LogisticRegression()\n",
    "print(model)\n",
    "\n",
    "model = model.fit(X_train,Y_train )\n",
    "ms = model.score(X_train,Y_train)\n",
    "print(\"model score::\",ms)\n",
    "\n",
    "probability = model.predict_proba(X_test)\n",
    "print(probability)\n",
    "#print(\"*\" * 100)\n",
    "print(\"Confusion Matrix\")\n",
    "predicted = model.predict(X_test)\n",
    "print(metrics.confusion_matrix(Y_test , predicted))"
   ]
  },
  {
   "cell_type": "code",
   "execution_count": 28,
   "metadata": {},
   "outputs": [
    {
     "name": "stdout",
     "output_type": "stream",
     "text": [
      "              precision    recall  f1-score   support\n",
      "\n",
      "           0       1.00      1.00      1.00   1270895\n",
      "           1       0.35      0.43      0.39      1629\n",
      "\n",
      "    accuracy                           1.00   1272524\n",
      "   macro avg       0.67      0.72      0.69   1272524\n",
      "weighted avg       1.00      1.00      1.00   1272524\n",
      "\n"
     ]
    }
   ],
   "source": [
    "print(metrics.classification_report(Y_test, predicted))"
   ]
  },
  {
   "cell_type": "code",
   "execution_count": 29,
   "metadata": {},
   "outputs": [
    {
     "data": {
      "image/png": "[encoded data removed]",
      "text/plain": [
       "<Figure size 360x360 with 2 Axes>"
      ]
     },
     "metadata": {
      "needs_background": "light"
     },
     "output_type": "display_data"
    }
   ],
   "source": [
    "import seaborn as sns\n",
    "cm = metrics.confusion_matrix(Y_test , predicted)\n",
    "plt.figure(figsize=(5,5))\n",
    "sns.heatmap(cm, annot=True, fmt=\".0f\", linewidths=.8, square = True, cmap = 'Greens_r');\n",
    "plt.ylabel('Actual label');\n",
    "plt.xlabel('Predicted label');\n",
    "\n",
    "all_sample_title = 'Accuracy Score:{:0.3f}'.format(ms)\n",
    "plt.title(all_sample_title, size = 15);"
   ]
  },
  {
   "cell_type": "code",
   "execution_count": 30,
   "metadata": {},
   "outputs": [
    {
     "name": "stdout",
     "output_type": "stream",
     "text": [
      "0.8852274600612261\n"
     ]
    },
    {
     "data": {
      "image/png": "[encoded data removed]",
      "text/plain": [
       "<Figure size 432x288 with 1 Axes>"
      ]
     },
     "metadata": {
      "needs_background": "light"
     },
     "output_type": "display_data"
    }
   ],
   "source": [
    "from sklearn import metrics\n",
    "preds = model.predict_proba(X_test)[:,1]\n",
    "fpr, tpr, _ = metrics.roc_curve(Y_test, preds)\n",
    "auc = metrics.auc(fpr,tpr)\n",
    "print(auc)\n",
    "plt.figure()\n",
    "fpr\n",
    "lw = 2\n",
    "plt.plot(fpr, tpr, color='darkorange', lw=lw, label='ROC curve (area = %0.2f)' % auc)\n",
    "plt.plot([0, 1], [0, 1], color='navy', lw=lw, linestyle='--')\n",
    "plt.xlim([0.0, 1.0])\n",
    "plt.ylim([0.0, 1.05])\n",
    "plt.xlabel('False Positive Rate')\n",
    "plt.ylabel('True Positive Rate')\n",
    "plt.legend(loc=\"lower right\")\n",
    "plt.show()"
   ]
  },
  {
   "cell_type": "code",
   "execution_count": 31,
   "metadata": {},
   "outputs": [
    {
     "data": {
      "text/html": [
       "<div>\n",
       "<style scoped>\n",
       "    .dataframe tbody tr th:only-of-type {\n",
       "        vertical-align: middle;\n",
       "    }\n",
       "\n",
       "    .dataframe tbody tr th {\n",
       "        vertical-align: top;\n",
       "    }\n",
       "\n",
       "    .dataframe thead th {\n",
       "        text-align: right;\n",
       "    }\n",
       "</style>\n",
       "<table border=\"1\" class=\"dataframe\">\n",
       "  <thead>\n",
       "    <tr style=\"text-align: right;\">\n",
       "      <th></th>\n",
       "      <th>step</th>\n",
       "      <th>type</th>\n",
       "      <th>amount</th>\n",
       "      <th>oldbalanceOrg</th>\n",
       "      <th>newbalanceOrig</th>\n",
       "      <th>oldbalanceDest</th>\n",
       "      <th>newbalanceDest</th>\n",
       "      <th>isFraud</th>\n",
       "      <th>isFlaggedFraud</th>\n",
       "    </tr>\n",
       "  </thead>\n",
       "  <tbody>\n",
       "    <tr>\n",
       "      <th>2</th>\n",
       "      <td>1</td>\n",
       "      <td>TRANSFER</td>\n",
       "      <td>181.0</td>\n",
       "      <td>181.0</td>\n",
       "      <td>0.0</td>\n",
       "      <td>0.0</td>\n",
       "      <td>0.0</td>\n",
       "      <td>1</td>\n",
       "      <td>0</td>\n",
       "    </tr>\n",
       "    <tr>\n",
       "      <th>3</th>\n",
       "      <td>1</td>\n",
       "      <td>CASH_OUT</td>\n",
       "      <td>181.0</td>\n",
       "      <td>181.0</td>\n",
       "      <td>0.0</td>\n",
       "      <td>21182.0</td>\n",
       "      <td>0.0</td>\n",
       "      <td>1</td>\n",
       "      <td>0</td>\n",
       "    </tr>\n",
       "    <tr>\n",
       "      <th>251</th>\n",
       "      <td>1</td>\n",
       "      <td>TRANSFER</td>\n",
       "      <td>2806.0</td>\n",
       "      <td>2806.0</td>\n",
       "      <td>0.0</td>\n",
       "      <td>0.0</td>\n",
       "      <td>0.0</td>\n",
       "      <td>1</td>\n",
       "      <td>0</td>\n",
       "    </tr>\n",
       "    <tr>\n",
       "      <th>252</th>\n",
       "      <td>1</td>\n",
       "      <td>CASH_OUT</td>\n",
       "      <td>2806.0</td>\n",
       "      <td>2806.0</td>\n",
       "      <td>0.0</td>\n",
       "      <td>26202.0</td>\n",
       "      <td>0.0</td>\n",
       "      <td>1</td>\n",
       "      <td>0</td>\n",
       "    </tr>\n",
       "    <tr>\n",
       "      <th>680</th>\n",
       "      <td>1</td>\n",
       "      <td>TRANSFER</td>\n",
       "      <td>20128.0</td>\n",
       "      <td>20128.0</td>\n",
       "      <td>0.0</td>\n",
       "      <td>0.0</td>\n",
       "      <td>0.0</td>\n",
       "      <td>1</td>\n",
       "      <td>0</td>\n",
       "    </tr>\n",
       "  </tbody>\n",
       "</table>\n",
       "</div>"
      ],
      "text/plain": [
       "     step      type   amount  oldbalanceOrg  newbalanceOrig  oldbalanceDest  \\\n",
       "2       1  TRANSFER    181.0          181.0             0.0             0.0   \n",
       "3       1  CASH_OUT    181.0          181.0             0.0         21182.0   \n",
       "251     1  TRANSFER   2806.0         2806.0             0.0             0.0   \n",
       "252     1  CASH_OUT   2806.0         2806.0             0.0         26202.0   \n",
       "680     1  TRANSFER  20128.0        20128.0             0.0             0.0   \n",
       "\n",
       "     newbalanceDest  isFraud  isFlaggedFraud  \n",
       "2               0.0        1               0  \n",
       "3               0.0        1               0  \n",
       "251             0.0        1               0  \n",
       "252             0.0        1               0  \n",
       "680             0.0        1               0  "
      ]
     },
     "execution_count": 31,
     "metadata": {},
     "output_type": "execute_result"
    }
   ],
   "source": [
    "fraud.head()"
   ]
  },
  {
   "cell_type": "code",
   "execution_count": 32,
   "metadata": {},
   "outputs": [],
   "source": [
    "dfinput = fraud.iloc[:,[0,2,3,4,5,6]]\n",
    "dfoutput = fraud.iloc[:,-2]"
   ]
  },
  {
   "cell_type": "code",
   "execution_count": 33,
   "metadata": {},
   "outputs": [],
   "source": [
    "dfinput_train,dfinput_test,dfoutput_train,dfoutput_test=train_test_split(dfinput, dfoutput, train_size=0.8,  random_state=100)"
   ]
  },
  {
   "cell_type": "code",
   "execution_count": 34,
   "metadata": {},
   "outputs": [
    {
     "data": {
      "text/plain": [
       "(6570, 6)"
      ]
     },
     "execution_count": 34,
     "metadata": {},
     "output_type": "execute_result"
    }
   ],
   "source": [
    "dfinput_train.shape"
   ]
  },
  {
   "cell_type": "code",
   "execution_count": 35,
   "metadata": {},
   "outputs": [
    {
     "data": {
      "text/plain": [
       "1    6570\n",
       "Name: isFraud, dtype: int64"
      ]
     },
     "execution_count": 35,
     "metadata": {},
     "output_type": "execute_result"
    }
   ],
   "source": [
    "dfoutput_train.value_counts()"
   ]
  },
  {
   "cell_type": "code",
   "execution_count": 36,
   "metadata": {},
   "outputs": [
    {
     "name": "stdout",
     "output_type": "stream",
     "text": [
      "Variable             Type                  Data/Info\n",
      "----------------------------------------------------\n",
      "LogisticRegression   type                  <class 'sklearn.linear_mo<...>stic.LogisticRegression'>\n",
      "SMOTE                ABCMeta               <class 'imblearn.over_sam<...>pling._smote.base.SMOTE'>\n",
      "X                    DataFrame                      step      amount<...>6362620 rows x 6 columns]\n",
      "X_test               DataFrame                      step     amount <...>1272524 rows x 6 columns]\n",
      "X_test_sm            DataFrame                      step        amou<...>2541790 rows x 6 columns]\n",
      "X_train              DataFrame                      step     amount <...>5090096 rows x 6 columns]\n",
      "X_train_sm           DataFrame                       step        amo<...>0167024 rows x 6 columns]\n",
      "Y                    Series                0          0\\n1          <...>th: 6362620, dtype: int64\n",
      "Y_test               Series                3763599    0\\n1595120    <...>th: 1272524, dtype: int64\n",
      "Y_test_sm            Series                0          0\\n1          <...>th: 2541790, dtype: int64\n",
      "Y_train              Series                137033     0\\n4335881    <...>th: 5090096, dtype: int64\n",
      "Y_train_sm           Series                0           0\\n1         <...>h: 10167024, dtype: int64\n",
      "all_sample_title     str                   Accuracy Score:0.998\n",
      "auc                  float64               0.8852274600612261\n",
      "cm                   ndarray               2x2: 4 elems, type `int64`, 32 bytes\n",
      "cross_val_score      function              <function cross_val_score at 0x000001E8663FD700>\n",
      "df                   DataFrame                      step      type  <...>362620 rows x 11 columns]\n",
      "dfinput              DataFrame                      step      amount<...>\\n[8213 rows x 6 columns]\n",
      "dfinput_test         DataFrame                      step      amount<...>\\n[1643 rows x 6 columns]\n",
      "dfinput_train        DataFrame                      step       amoun<...>\\n[6570 rows x 6 columns]\n",
      "dfoutput             Series                2          1\\n3          <...>ength: 8213, dtype: int64\n",
      "dfoutput_test        Series                6135684    1\\n5759652    <...>ength: 1643, dtype: int64\n",
      "dfoutput_train       Series                1030560    1\\n2491321    <...>ength: 6570, dtype: int64\n",
      "fpr                  ndarray               2195: 2195 elems, type `float64`, 17560 bytes\n",
      "fraud                DataFrame                      step      type  <...>\\n[8213 rows x 9 columns]\n",
      "lw                   int                   2\n",
      "metrics              module                <module 'sklearn.metrics'<...>n\\\\metrics\\\\__init__.py'>\n",
      "model                LogisticRegression    LogisticRegression()\n",
      "ms                   float64               0.998251702914837\n",
      "newdf                DataFrame                      step      type  <...>6362620 rows x 9 columns]\n",
      "notFraud             DataFrame                      step      type  <...>6354407 rows x 9 columns]\n",
      "np                   module                <module 'numpy' from 'C:\\<...>ges\\\\numpy\\\\__init__.py'>\n",
      "pd                   module                <module 'pandas' from 'C:<...>es\\\\pandas\\\\__init__.py'>\n",
      "plt                  module                <module 'matplotlib.pyplo<...>\\\\matplotlib\\\\pyplot.py'>\n",
      "predicted            ndarray               1272524: 1272524 elems, type `int64`, 10180192 bytes (9.708587646484375 Mb)\n",
      "preds                ndarray               1272524: 1272524 elems, type `float64`, 10180192 bytes (9.708587646484375 Mb)\n",
      "preprocessing        module                <module 'sklearn.preproce<...>processing\\\\__init__.py'>\n",
      "probability          ndarray               1272524x2: 2545048 elems, type `float64`, 20360384 bytes (19.41717529296875 Mb)\n",
      "smt                  SMOTE                 SMOTE(k_neighbors=1)\n",
      "sns                  module                <module 'seaborn' from 'C<...>s\\\\seaborn\\\\__init__.py'>\n",
      "tpr                  ndarray               2195: 2195 elems, type `float64`, 17560 bytes\n",
      "train_test_split     function              <function train_test_split at 0x000001E8663E5280>\n",
      "utils                module                <module 'sklearn.utils' f<...>arn\\\\utils\\\\__init__.py'>\n"
     ]
    }
   ],
   "source": [
    "%whos"
   ]
  },
  {
   "cell_type": "code",
   "execution_count": 42,
   "metadata": {},
   "outputs": [
    {
     "data": {
      "text/plain": [
       "(6354407, 9)"
      ]
     },
     "execution_count": 42,
     "metadata": {},
     "output_type": "execute_result"
    }
   ],
   "source": [
    "notFraud.shape\n",
    "    "
   ]
  },
  {
   "cell_type": "code",
   "execution_count": 43,
   "metadata": {},
   "outputs": [
    {
     "data": {
      "text/plain": [
       "(8213, 9)"
      ]
     },
     "execution_count": 43,
     "metadata": {},
     "output_type": "execute_result"
    }
   ],
   "source": [
    "fraud.shape"
   ]
  },
  {
   "cell_type": "code",
   "execution_count": 47,
   "metadata": {},
   "outputs": [],
   "source": [
    "over = fraud.sample(n=6354407, replace = True)"
   ]
  },
  {
   "cell_type": "code",
   "execution_count": 48,
   "metadata": {},
   "outputs": [
    {
     "data": {
      "text/plain": [
       "(6354407, 9)"
      ]
     },
     "execution_count": 48,
     "metadata": {},
     "output_type": "execute_result"
    }
   ],
   "source": [
    "over.shape"
   ]
  },
  {
   "cell_type": "code",
   "execution_count": 51,
   "metadata": {},
   "outputs": [
    {
     "data": {
      "text/plain": [
       "1    6354407\n",
       "0    6354407\n",
       "Name: isFraud, dtype: int64"
      ]
     },
     "execution_count": 51,
     "metadata": {},
     "output_type": "execute_result"
    }
   ],
   "source": [
    "Bal_df = pd.concat([notFraud,over])\n",
    "Bal_df['isFraud'].value_counts()"
   ]
  },
  {
   "cell_type": "code",
   "execution_count": 114,
   "metadata": {},
   "outputs": [],
   "source": [
    "# selecting sample from data\n",
    "Bal_df_samp = Bal_df.sample(n=50)"
   ]
  },
  {
   "cell_type": "code",
   "execution_count": 115,
   "metadata": {},
   "outputs": [
    {
     "data": {
      "text/html": [
       "<div>\n",
       "<style scoped>\n",
       "    .dataframe tbody tr th:only-of-type {\n",
       "        vertical-align: middle;\n",
       "    }\n",
       "\n",
       "    .dataframe tbody tr th {\n",
       "        vertical-align: top;\n",
       "    }\n",
       "\n",
       "    .dataframe thead th {\n",
       "        text-align: right;\n",
       "    }\n",
       "</style>\n",
       "<table border=\"1\" class=\"dataframe\">\n",
       "  <thead>\n",
       "    <tr style=\"text-align: right;\">\n",
       "      <th></th>\n",
       "      <th>step</th>\n",
       "      <th>amount</th>\n",
       "      <th>oldbalanceOrg</th>\n",
       "      <th>newbalanceOrig</th>\n",
       "      <th>oldbalanceDest</th>\n",
       "      <th>newbalanceDest</th>\n",
       "      <th>isFraud</th>\n",
       "      <th>isFlaggedFraud</th>\n",
       "    </tr>\n",
       "  </thead>\n",
       "  <tbody>\n",
       "    <tr>\n",
       "      <th>step</th>\n",
       "      <td>1.000000</td>\n",
       "      <td>0.038767</td>\n",
       "      <td>-0.006977</td>\n",
       "      <td>-0.042423</td>\n",
       "      <td>-0.078170</td>\n",
       "      <td>-0.128742</td>\n",
       "      <td>0.369664</td>\n",
       "      <td>NaN</td>\n",
       "    </tr>\n",
       "    <tr>\n",
       "      <th>amount</th>\n",
       "      <td>0.038767</td>\n",
       "      <td>1.000000</td>\n",
       "      <td>0.405603</td>\n",
       "      <td>-0.115461</td>\n",
       "      <td>0.152419</td>\n",
       "      <td>0.509893</td>\n",
       "      <td>0.356757</td>\n",
       "      <td>NaN</td>\n",
       "    </tr>\n",
       "    <tr>\n",
       "      <th>oldbalanceOrg</th>\n",
       "      <td>-0.006977</td>\n",
       "      <td>0.405603</td>\n",
       "      <td>1.000000</td>\n",
       "      <td>0.853272</td>\n",
       "      <td>-0.009965</td>\n",
       "      <td>0.141352</td>\n",
       "      <td>-0.036738</td>\n",
       "      <td>NaN</td>\n",
       "    </tr>\n",
       "    <tr>\n",
       "      <th>newbalanceOrig</th>\n",
       "      <td>-0.042423</td>\n",
       "      <td>-0.115461</td>\n",
       "      <td>0.853272</td>\n",
       "      <td>1.000000</td>\n",
       "      <td>-0.065548</td>\n",
       "      <td>-0.101914</td>\n",
       "      <td>-0.280293</td>\n",
       "      <td>NaN</td>\n",
       "    </tr>\n",
       "    <tr>\n",
       "      <th>oldbalanceDest</th>\n",
       "      <td>-0.078170</td>\n",
       "      <td>0.152419</td>\n",
       "      <td>-0.009965</td>\n",
       "      <td>-0.065548</td>\n",
       "      <td>1.000000</td>\n",
       "      <td>0.812389</td>\n",
       "      <td>-0.133187</td>\n",
       "      <td>NaN</td>\n",
       "    </tr>\n",
       "    <tr>\n",
       "      <th>newbalanceDest</th>\n",
       "      <td>-0.128742</td>\n",
       "      <td>0.509893</td>\n",
       "      <td>0.141352</td>\n",
       "      <td>-0.101914</td>\n",
       "      <td>0.812389</td>\n",
       "      <td>1.000000</td>\n",
       "      <td>0.055921</td>\n",
       "      <td>NaN</td>\n",
       "    </tr>\n",
       "    <tr>\n",
       "      <th>isFraud</th>\n",
       "      <td>0.369664</td>\n",
       "      <td>0.356757</td>\n",
       "      <td>-0.036738</td>\n",
       "      <td>-0.280293</td>\n",
       "      <td>-0.133187</td>\n",
       "      <td>0.055921</td>\n",
       "      <td>1.000000</td>\n",
       "      <td>NaN</td>\n",
       "    </tr>\n",
       "    <tr>\n",
       "      <th>isFlaggedFraud</th>\n",
       "      <td>NaN</td>\n",
       "      <td>NaN</td>\n",
       "      <td>NaN</td>\n",
       "      <td>NaN</td>\n",
       "      <td>NaN</td>\n",
       "      <td>NaN</td>\n",
       "      <td>NaN</td>\n",
       "      <td>NaN</td>\n",
       "    </tr>\n",
       "  </tbody>\n",
       "</table>\n",
       "</div>"
      ],
      "text/plain": [
       "                    step    amount  oldbalanceOrg  newbalanceOrig  \\\n",
       "step            1.000000  0.038767      -0.006977       -0.042423   \n",
       "amount          0.038767  1.000000       0.405603       -0.115461   \n",
       "oldbalanceOrg  -0.006977  0.405603       1.000000        0.853272   \n",
       "newbalanceOrig -0.042423 -0.115461       0.853272        1.000000   \n",
       "oldbalanceDest -0.078170  0.152419      -0.009965       -0.065548   \n",
       "newbalanceDest -0.128742  0.509893       0.141352       -0.101914   \n",
       "isFraud         0.369664  0.356757      -0.036738       -0.280293   \n",
       "isFlaggedFraud       NaN       NaN            NaN             NaN   \n",
       "\n",
       "                oldbalanceDest  newbalanceDest   isFraud  isFlaggedFraud  \n",
       "step                 -0.078170       -0.128742  0.369664             NaN  \n",
       "amount                0.152419        0.509893  0.356757             NaN  \n",
       "oldbalanceOrg        -0.009965        0.141352 -0.036738             NaN  \n",
       "newbalanceOrig       -0.065548       -0.101914 -0.280293             NaN  \n",
       "oldbalanceDest        1.000000        0.812389 -0.133187             NaN  \n",
       "newbalanceDest        0.812389        1.000000  0.055921             NaN  \n",
       "isFraud              -0.133187        0.055921  1.000000             NaN  \n",
       "isFlaggedFraud             NaN             NaN       NaN             NaN  "
      ]
     },
     "execution_count": 115,
     "metadata": {},
     "output_type": "execute_result"
    }
   ],
   "source": [
    "Bal_df_samp.corr()"
   ]
  },
  {
   "cell_type": "code",
   "execution_count": 116,
   "metadata": {},
   "outputs": [
    {
     "data": {
      "text/html": [
       "<div>\n",
       "<style scoped>\n",
       "    .dataframe tbody tr th:only-of-type {\n",
       "        vertical-align: middle;\n",
       "    }\n",
       "\n",
       "    .dataframe tbody tr th {\n",
       "        vertical-align: top;\n",
       "    }\n",
       "\n",
       "    .dataframe thead th {\n",
       "        text-align: right;\n",
       "    }\n",
       "</style>\n",
       "<table border=\"1\" class=\"dataframe\">\n",
       "  <thead>\n",
       "    <tr style=\"text-align: right;\">\n",
       "      <th></th>\n",
       "      <th>step</th>\n",
       "      <th>amount</th>\n",
       "      <th>oldbalanceOrg</th>\n",
       "      <th>newbalanceOrig</th>\n",
       "      <th>oldbalanceDest</th>\n",
       "      <th>isFraud</th>\n",
       "    </tr>\n",
       "  </thead>\n",
       "  <tbody>\n",
       "    <tr>\n",
       "      <th>4887879</th>\n",
       "      <td>349</td>\n",
       "      <td>231687.47</td>\n",
       "      <td>3084930.34</td>\n",
       "      <td>3316617.81</td>\n",
       "      <td>365834.75</td>\n",
       "      <td>0</td>\n",
       "    </tr>\n",
       "    <tr>\n",
       "      <th>6190127</th>\n",
       "      <td>571</td>\n",
       "      <td>272637.22</td>\n",
       "      <td>272637.22</td>\n",
       "      <td>0.00</td>\n",
       "      <td>0.00</td>\n",
       "      <td>1</td>\n",
       "    </tr>\n",
       "    <tr>\n",
       "      <th>6168678</th>\n",
       "      <td>557</td>\n",
       "      <td>643052.88</td>\n",
       "      <td>643052.88</td>\n",
       "      <td>0.00</td>\n",
       "      <td>0.00</td>\n",
       "      <td>1</td>\n",
       "    </tr>\n",
       "    <tr>\n",
       "      <th>6008693</th>\n",
       "      <td>437</td>\n",
       "      <td>119041.12</td>\n",
       "      <td>119041.12</td>\n",
       "      <td>0.00</td>\n",
       "      <td>1755159.60</td>\n",
       "      <td>1</td>\n",
       "    </tr>\n",
       "    <tr>\n",
       "      <th>777627</th>\n",
       "      <td>39</td>\n",
       "      <td>7937954.20</td>\n",
       "      <td>7937954.20</td>\n",
       "      <td>0.00</td>\n",
       "      <td>2716480.56</td>\n",
       "      <td>1</td>\n",
       "    </tr>\n",
       "  </tbody>\n",
       "</table>\n",
       "</div>"
      ],
      "text/plain": [
       "         step      amount  oldbalanceOrg  newbalanceOrig  oldbalanceDest  \\\n",
       "4887879   349   231687.47     3084930.34      3316617.81       365834.75   \n",
       "6190127   571   272637.22      272637.22            0.00            0.00   \n",
       "6168678   557   643052.88      643052.88            0.00            0.00   \n",
       "6008693   437   119041.12      119041.12            0.00      1755159.60   \n",
       "777627     39  7937954.20     7937954.20            0.00      2716480.56   \n",
       "\n",
       "         isFraud  \n",
       "4887879        0  \n",
       "6190127        1  \n",
       "6168678        1  \n",
       "6008693        1  \n",
       "777627         1  "
      ]
     },
     "execution_count": 116,
     "metadata": {},
     "output_type": "execute_result"
    }
   ],
   "source": [
    "Bal_df_samp = Bal_df_samp.drop(['type','newbalanceDest','isFlaggedFraud'], axis = 1)/\n",
    "Bal_df_samp.head()"
   ]
  },
  {
   "cell_type": "code",
   "execution_count": 117,
   "metadata": {},
   "outputs": [
    {
     "data": {
      "text/html": [
       "<div>\n",
       "<style scoped>\n",
       "    .dataframe tbody tr th:only-of-type {\n",
       "        vertical-align: middle;\n",
       "    }\n",
       "\n",
       "    .dataframe tbody tr th {\n",
       "        vertical-align: top;\n",
       "    }\n",
       "\n",
       "    .dataframe thead th {\n",
       "        text-align: right;\n",
       "    }\n",
       "</style>\n",
       "<table border=\"1\" class=\"dataframe\">\n",
       "  <thead>\n",
       "    <tr style=\"text-align: right;\">\n",
       "      <th></th>\n",
       "      <th>step</th>\n",
       "      <th>amount</th>\n",
       "      <th>oldbalanceOrg</th>\n",
       "      <th>newbalanceOrig</th>\n",
       "      <th>oldbalanceDest</th>\n",
       "      <th>isFraud</th>\n",
       "    </tr>\n",
       "  </thead>\n",
       "  <tbody>\n",
       "    <tr>\n",
       "      <th>step</th>\n",
       "      <td>1.000000</td>\n",
       "      <td>0.038767</td>\n",
       "      <td>-0.006977</td>\n",
       "      <td>-0.042423</td>\n",
       "      <td>-0.078170</td>\n",
       "      <td>0.369664</td>\n",
       "    </tr>\n",
       "    <tr>\n",
       "      <th>amount</th>\n",
       "      <td>0.038767</td>\n",
       "      <td>1.000000</td>\n",
       "      <td>0.405603</td>\n",
       "      <td>-0.115461</td>\n",
       "      <td>0.152419</td>\n",
       "      <td>0.356757</td>\n",
       "    </tr>\n",
       "    <tr>\n",
       "      <th>oldbalanceOrg</th>\n",
       "      <td>-0.006977</td>\n",
       "      <td>0.405603</td>\n",
       "      <td>1.000000</td>\n",
       "      <td>0.853272</td>\n",
       "      <td>-0.009965</td>\n",
       "      <td>-0.036738</td>\n",
       "    </tr>\n",
       "    <tr>\n",
       "      <th>newbalanceOrig</th>\n",
       "      <td>-0.042423</td>\n",
       "      <td>-0.115461</td>\n",
       "      <td>0.853272</td>\n",
       "      <td>1.000000</td>\n",
       "      <td>-0.065548</td>\n",
       "      <td>-0.280293</td>\n",
       "    </tr>\n",
       "    <tr>\n",
       "      <th>oldbalanceDest</th>\n",
       "      <td>-0.078170</td>\n",
       "      <td>0.152419</td>\n",
       "      <td>-0.009965</td>\n",
       "      <td>-0.065548</td>\n",
       "      <td>1.000000</td>\n",
       "      <td>-0.133187</td>\n",
       "    </tr>\n",
       "    <tr>\n",
       "      <th>isFraud</th>\n",
       "      <td>0.369664</td>\n",
       "      <td>0.356757</td>\n",
       "      <td>-0.036738</td>\n",
       "      <td>-0.280293</td>\n",
       "      <td>-0.133187</td>\n",
       "      <td>1.000000</td>\n",
       "    </tr>\n",
       "  </tbody>\n",
       "</table>\n",
       "</div>"
      ],
      "text/plain": [
       "                    step    amount  oldbalanceOrg  newbalanceOrig  \\\n",
       "step            1.000000  0.038767      -0.006977       -0.042423   \n",
       "amount          0.038767  1.000000       0.405603       -0.115461   \n",
       "oldbalanceOrg  -0.006977  0.405603       1.000000        0.853272   \n",
       "newbalanceOrig -0.042423 -0.115461       0.853272        1.000000   \n",
       "oldbalanceDest -0.078170  0.152419      -0.009965       -0.065548   \n",
       "isFraud         0.369664  0.356757      -0.036738       -0.280293   \n",
       "\n",
       "                oldbalanceDest   isFraud  \n",
       "step                 -0.078170  0.369664  \n",
       "amount                0.152419  0.356757  \n",
       "oldbalanceOrg        -0.009965 -0.036738  \n",
       "newbalanceOrig       -0.065548 -0.280293  \n",
       "oldbalanceDest        1.000000 -0.133187  \n",
       "isFraud              -0.133187  1.000000  "
      ]
     },
     "execution_count": 117,
     "metadata": {},
     "output_type": "execute_result"
    }
   ],
   "source": [
    "Bal_df_samp.corr()"
   ]
  },
  {
   "cell_type": "code",
   "execution_count": 118,
   "metadata": {},
   "outputs": [
    {
     "data": {
      "text/html": [
       "<div>\n",
       "<style scoped>\n",
       "    .dataframe tbody tr th:only-of-type {\n",
       "        vertical-align: middle;\n",
       "    }\n",
       "\n",
       "    .dataframe tbody tr th {\n",
       "        vertical-align: top;\n",
       "    }\n",
       "\n",
       "    .dataframe thead th {\n",
       "        text-align: right;\n",
       "    }\n",
       "</style>\n",
       "<table border=\"1\" class=\"dataframe\">\n",
       "  <thead>\n",
       "    <tr style=\"text-align: right;\">\n",
       "      <th></th>\n",
       "      <th>step</th>\n",
       "      <th>amount</th>\n",
       "      <th>oldbalanceOrg</th>\n",
       "      <th>newbalanceOrig</th>\n",
       "      <th>oldbalanceDest</th>\n",
       "      <th>isFraud</th>\n",
       "    </tr>\n",
       "  </thead>\n",
       "  <tbody>\n",
       "    <tr>\n",
       "      <th>step</th>\n",
       "      <td>3.947152e+04</td>\n",
       "      <td>1.282125e+07</td>\n",
       "      <td>-4.421462e+06</td>\n",
       "      <td>-2.480294e+07</td>\n",
       "      <td>-1.874450e+07</td>\n",
       "      <td>37.064490</td>\n",
       "    </tr>\n",
       "    <tr>\n",
       "      <th>amount</th>\n",
       "      <td>1.282125e+07</td>\n",
       "      <td>2.771110e+12</td>\n",
       "      <td>2.153612e+12</td>\n",
       "      <td>-5.656202e+11</td>\n",
       "      <td>3.062381e+11</td>\n",
       "      <td>299715.275004</td>\n",
       "    </tr>\n",
       "    <tr>\n",
       "      <th>oldbalanceOrg</th>\n",
       "      <td>-4.421462e+06</td>\n",
       "      <td>2.153612e+12</td>\n",
       "      <td>1.017372e+13</td>\n",
       "      <td>8.009196e+12</td>\n",
       "      <td>-3.836372e+10</td>\n",
       "      <td>-59137.248865</td>\n",
       "    </tr>\n",
       "    <tr>\n",
       "      <th>newbalanceOrig</th>\n",
       "      <td>-2.480294e+07</td>\n",
       "      <td>-5.656202e+11</td>\n",
       "      <td>8.009196e+12</td>\n",
       "      <td>8.660113e+12</td>\n",
       "      <td>-2.328154e+11</td>\n",
       "      <td>-416277.221192</td>\n",
       "    </tr>\n",
       "    <tr>\n",
       "      <th>oldbalanceDest</th>\n",
       "      <td>-1.874450e+07</td>\n",
       "      <td>3.062381e+11</td>\n",
       "      <td>-3.836372e+10</td>\n",
       "      <td>-2.328154e+11</td>\n",
       "      <td>1.456753e+12</td>\n",
       "      <td>-81127.001347</td>\n",
       "    </tr>\n",
       "    <tr>\n",
       "      <th>isFraud</th>\n",
       "      <td>3.706449e+01</td>\n",
       "      <td>2.997153e+05</td>\n",
       "      <td>-5.913725e+04</td>\n",
       "      <td>-4.162772e+05</td>\n",
       "      <td>-8.112700e+04</td>\n",
       "      <td>0.254694</td>\n",
       "    </tr>\n",
       "  </tbody>\n",
       "</table>\n",
       "</div>"
      ],
      "text/plain": [
       "                        step        amount  oldbalanceOrg  newbalanceOrig  \\\n",
       "step            3.947152e+04  1.282125e+07  -4.421462e+06   -2.480294e+07   \n",
       "amount          1.282125e+07  2.771110e+12   2.153612e+12   -5.656202e+11   \n",
       "oldbalanceOrg  -4.421462e+06  2.153612e+12   1.017372e+13    8.009196e+12   \n",
       "newbalanceOrig -2.480294e+07 -5.656202e+11   8.009196e+12    8.660113e+12   \n",
       "oldbalanceDest -1.874450e+07  3.062381e+11  -3.836372e+10   -2.328154e+11   \n",
       "isFraud         3.706449e+01  2.997153e+05  -5.913725e+04   -4.162772e+05   \n",
       "\n",
       "                oldbalanceDest        isFraud  \n",
       "step             -1.874450e+07      37.064490  \n",
       "amount            3.062381e+11  299715.275004  \n",
       "oldbalanceOrg    -3.836372e+10  -59137.248865  \n",
       "newbalanceOrig   -2.328154e+11 -416277.221192  \n",
       "oldbalanceDest    1.456753e+12  -81127.001347  \n",
       "isFraud          -8.112700e+04       0.254694  "
      ]
     },
     "execution_count": 118,
     "metadata": {},
     "output_type": "execute_result"
    }
   ],
   "source": [
    "Bal_df_samp.cov()"
   ]
  },
  {
   "cell_type": "code",
   "execution_count": 119,
   "metadata": {},
   "outputs": [
    {
     "data": {
      "text/plain": [
       "0    26\n",
       "1    24\n",
       "Name: isFraud, dtype: int64"
      ]
     },
     "execution_count": 119,
     "metadata": {},
     "output_type": "execute_result"
    }
   ],
   "source": [
    "Bal_df_samp['isFraud'].value_counts()\n"
   ]
  },
  {
   "cell_type": "code",
   "execution_count": 120,
   "metadata": {},
   "outputs": [],
   "source": [
    "X = Bal_df_samp.iloc[:,[1,2,3,4]]\n",
    "Y = Bal_df_samp.iloc[:,-1]"
   ]
  },
  {
   "cell_type": "code",
   "execution_count": 121,
   "metadata": {},
   "outputs": [
    {
     "data": {
      "text/html": [
       "<div>\n",
       "<style scoped>\n",
       "    .dataframe tbody tr th:only-of-type {\n",
       "        vertical-align: middle;\n",
       "    }\n",
       "\n",
       "    .dataframe tbody tr th {\n",
       "        vertical-align: top;\n",
       "    }\n",
       "\n",
       "    .dataframe thead th {\n",
       "        text-align: right;\n",
       "    }\n",
       "</style>\n",
       "<table border=\"1\" class=\"dataframe\">\n",
       "  <thead>\n",
       "    <tr style=\"text-align: right;\">\n",
       "      <th></th>\n",
       "      <th>amount</th>\n",
       "      <th>oldbalanceOrg</th>\n",
       "      <th>newbalanceOrig</th>\n",
       "      <th>oldbalanceDest</th>\n",
       "    </tr>\n",
       "  </thead>\n",
       "  <tbody>\n",
       "    <tr>\n",
       "      <th>4887879</th>\n",
       "      <td>231687.47</td>\n",
       "      <td>3084930.34</td>\n",
       "      <td>3316617.81</td>\n",
       "      <td>365834.75</td>\n",
       "    </tr>\n",
       "    <tr>\n",
       "      <th>6190127</th>\n",
       "      <td>272637.22</td>\n",
       "      <td>272637.22</td>\n",
       "      <td>0.00</td>\n",
       "      <td>0.00</td>\n",
       "    </tr>\n",
       "    <tr>\n",
       "      <th>6168678</th>\n",
       "      <td>643052.88</td>\n",
       "      <td>643052.88</td>\n",
       "      <td>0.00</td>\n",
       "      <td>0.00</td>\n",
       "    </tr>\n",
       "    <tr>\n",
       "      <th>6008693</th>\n",
       "      <td>119041.12</td>\n",
       "      <td>119041.12</td>\n",
       "      <td>0.00</td>\n",
       "      <td>1755159.60</td>\n",
       "    </tr>\n",
       "    <tr>\n",
       "      <th>777627</th>\n",
       "      <td>7937954.20</td>\n",
       "      <td>7937954.20</td>\n",
       "      <td>0.00</td>\n",
       "      <td>2716480.56</td>\n",
       "    </tr>\n",
       "    <tr>\n",
       "      <th>5188034</th>\n",
       "      <td>916644.03</td>\n",
       "      <td>916644.03</td>\n",
       "      <td>0.00</td>\n",
       "      <td>0.00</td>\n",
       "    </tr>\n",
       "    <tr>\n",
       "      <th>6014702</th>\n",
       "      <td>146061.11</td>\n",
       "      <td>146061.11</td>\n",
       "      <td>0.00</td>\n",
       "      <td>37501.29</td>\n",
       "    </tr>\n",
       "    <tr>\n",
       "      <th>6351302</th>\n",
       "      <td>105269.81</td>\n",
       "      <td>105269.81</td>\n",
       "      <td>0.00</td>\n",
       "      <td>0.00</td>\n",
       "    </tr>\n",
       "    <tr>\n",
       "      <th>6196901</th>\n",
       "      <td>3778.19</td>\n",
       "      <td>53280.91</td>\n",
       "      <td>49502.72</td>\n",
       "      <td>0.00</td>\n",
       "    </tr>\n",
       "    <tr>\n",
       "      <th>3611001</th>\n",
       "      <td>2271674.66</td>\n",
       "      <td>2271674.66</td>\n",
       "      <td>0.00</td>\n",
       "      <td>0.00</td>\n",
       "    </tr>\n",
       "    <tr>\n",
       "      <th>5595678</th>\n",
       "      <td>122433.70</td>\n",
       "      <td>0.00</td>\n",
       "      <td>0.00</td>\n",
       "      <td>528155.00</td>\n",
       "    </tr>\n",
       "    <tr>\n",
       "      <th>1622803</th>\n",
       "      <td>95348.33</td>\n",
       "      <td>95348.33</td>\n",
       "      <td>0.00</td>\n",
       "      <td>0.00</td>\n",
       "    </tr>\n",
       "    <tr>\n",
       "      <th>1030327</th>\n",
       "      <td>325242.69</td>\n",
       "      <td>325242.69</td>\n",
       "      <td>0.00</td>\n",
       "      <td>0.00</td>\n",
       "    </tr>\n",
       "    <tr>\n",
       "      <th>482420</th>\n",
       "      <td>306698.63</td>\n",
       "      <td>272842.00</td>\n",
       "      <td>0.00</td>\n",
       "      <td>1790.00</td>\n",
       "    </tr>\n",
       "    <tr>\n",
       "      <th>5323782</th>\n",
       "      <td>7466.12</td>\n",
       "      <td>7466.12</td>\n",
       "      <td>0.00</td>\n",
       "      <td>0.00</td>\n",
       "    </tr>\n",
       "    <tr>\n",
       "      <th>6055661</th>\n",
       "      <td>1416055.74</td>\n",
       "      <td>1416055.74</td>\n",
       "      <td>0.00</td>\n",
       "      <td>0.00</td>\n",
       "    </tr>\n",
       "    <tr>\n",
       "      <th>2417463</th>\n",
       "      <td>134001.25</td>\n",
       "      <td>2770.00</td>\n",
       "      <td>0.00</td>\n",
       "      <td>42306.36</td>\n",
       "    </tr>\n",
       "    <tr>\n",
       "      <th>2058343</th>\n",
       "      <td>332729.54</td>\n",
       "      <td>0.00</td>\n",
       "      <td>0.00</td>\n",
       "      <td>613712.35</td>\n",
       "    </tr>\n",
       "    <tr>\n",
       "      <th>5990553</th>\n",
       "      <td>3118811.65</td>\n",
       "      <td>3118811.65</td>\n",
       "      <td>0.00</td>\n",
       "      <td>1163983.03</td>\n",
       "    </tr>\n",
       "    <tr>\n",
       "      <th>4785682</th>\n",
       "      <td>2231580.50</td>\n",
       "      <td>2231580.50</td>\n",
       "      <td>0.00</td>\n",
       "      <td>0.00</td>\n",
       "    </tr>\n",
       "    <tr>\n",
       "      <th>6281506</th>\n",
       "      <td>17733.57</td>\n",
       "      <td>17733.57</td>\n",
       "      <td>0.00</td>\n",
       "      <td>0.00</td>\n",
       "    </tr>\n",
       "    <tr>\n",
       "      <th>5207757</th>\n",
       "      <td>5176.14</td>\n",
       "      <td>17786528.18</td>\n",
       "      <td>17791704.32</td>\n",
       "      <td>15281.61</td>\n",
       "    </tr>\n",
       "    <tr>\n",
       "      <th>6281703</th>\n",
       "      <td>733119.42</td>\n",
       "      <td>733119.42</td>\n",
       "      <td>0.00</td>\n",
       "      <td>2751163.93</td>\n",
       "    </tr>\n",
       "    <tr>\n",
       "      <th>5324212</th>\n",
       "      <td>26930.65</td>\n",
       "      <td>0.00</td>\n",
       "      <td>0.00</td>\n",
       "      <td>164453.36</td>\n",
       "    </tr>\n",
       "    <tr>\n",
       "      <th>3188929</th>\n",
       "      <td>110989.45</td>\n",
       "      <td>288305.50</td>\n",
       "      <td>177316.05</td>\n",
       "      <td>5898843.37</td>\n",
       "    </tr>\n",
       "    <tr>\n",
       "      <th>2458628</th>\n",
       "      <td>153610.90</td>\n",
       "      <td>6667321.23</td>\n",
       "      <td>6820932.13</td>\n",
       "      <td>207601.15</td>\n",
       "    </tr>\n",
       "    <tr>\n",
       "      <th>3225805</th>\n",
       "      <td>402283.32</td>\n",
       "      <td>103594.00</td>\n",
       "      <td>0.00</td>\n",
       "      <td>0.00</td>\n",
       "    </tr>\n",
       "    <tr>\n",
       "      <th>6053674</th>\n",
       "      <td>109729.30</td>\n",
       "      <td>1493839.37</td>\n",
       "      <td>1603568.66</td>\n",
       "      <td>225364.51</td>\n",
       "    </tr>\n",
       "    <tr>\n",
       "      <th>5245651</th>\n",
       "      <td>111719.30</td>\n",
       "      <td>218407.00</td>\n",
       "      <td>330126.30</td>\n",
       "      <td>46410.91</td>\n",
       "    </tr>\n",
       "    <tr>\n",
       "      <th>2813127</th>\n",
       "      <td>476321.80</td>\n",
       "      <td>476321.80</td>\n",
       "      <td>0.00</td>\n",
       "      <td>0.00</td>\n",
       "    </tr>\n",
       "    <tr>\n",
       "      <th>6168735</th>\n",
       "      <td>8208916.00</td>\n",
       "      <td>8208916.00</td>\n",
       "      <td>0.00</td>\n",
       "      <td>0.00</td>\n",
       "    </tr>\n",
       "    <tr>\n",
       "      <th>2676565</th>\n",
       "      <td>5688.00</td>\n",
       "      <td>5192.00</td>\n",
       "      <td>0.00</td>\n",
       "      <td>0.00</td>\n",
       "    </tr>\n",
       "    <tr>\n",
       "      <th>575768</th>\n",
       "      <td>802382.45</td>\n",
       "      <td>802382.45</td>\n",
       "      <td>0.00</td>\n",
       "      <td>0.00</td>\n",
       "    </tr>\n",
       "    <tr>\n",
       "      <th>3435271</th>\n",
       "      <td>7634.66</td>\n",
       "      <td>11558.00</td>\n",
       "      <td>3923.34</td>\n",
       "      <td>0.00</td>\n",
       "    </tr>\n",
       "    <tr>\n",
       "      <th>722444</th>\n",
       "      <td>10826.82</td>\n",
       "      <td>26709.00</td>\n",
       "      <td>15882.18</td>\n",
       "      <td>46021.60</td>\n",
       "    </tr>\n",
       "    <tr>\n",
       "      <th>904926</th>\n",
       "      <td>186229.89</td>\n",
       "      <td>35721.00</td>\n",
       "      <td>221950.89</td>\n",
       "      <td>622398.39</td>\n",
       "    </tr>\n",
       "    <tr>\n",
       "      <th>6200815</th>\n",
       "      <td>884821.37</td>\n",
       "      <td>884821.37</td>\n",
       "      <td>0.00</td>\n",
       "      <td>0.00</td>\n",
       "    </tr>\n",
       "    <tr>\n",
       "      <th>2310949</th>\n",
       "      <td>276609.64</td>\n",
       "      <td>999541.00</td>\n",
       "      <td>1276150.64</td>\n",
       "      <td>326855.40</td>\n",
       "    </tr>\n",
       "    <tr>\n",
       "      <th>284351</th>\n",
       "      <td>16340.04</td>\n",
       "      <td>635371.83</td>\n",
       "      <td>619031.79</td>\n",
       "      <td>0.00</td>\n",
       "    </tr>\n",
       "    <tr>\n",
       "      <th>3388431</th>\n",
       "      <td>7723.69</td>\n",
       "      <td>10952.00</td>\n",
       "      <td>18675.69</td>\n",
       "      <td>4517996.06</td>\n",
       "    </tr>\n",
       "    <tr>\n",
       "      <th>4003541</th>\n",
       "      <td>2591775.40</td>\n",
       "      <td>0.00</td>\n",
       "      <td>0.00</td>\n",
       "      <td>2929905.52</td>\n",
       "    </tr>\n",
       "    <tr>\n",
       "      <th>3749912</th>\n",
       "      <td>345533.89</td>\n",
       "      <td>345533.89</td>\n",
       "      <td>0.00</td>\n",
       "      <td>501951.83</td>\n",
       "    </tr>\n",
       "    <tr>\n",
       "      <th>2176496</th>\n",
       "      <td>93341.22</td>\n",
       "      <td>221.00</td>\n",
       "      <td>93562.22</td>\n",
       "      <td>29059.76</td>\n",
       "    </tr>\n",
       "    <tr>\n",
       "      <th>5638439</th>\n",
       "      <td>4284.32</td>\n",
       "      <td>107628.37</td>\n",
       "      <td>103344.05</td>\n",
       "      <td>250542.87</td>\n",
       "    </tr>\n",
       "    <tr>\n",
       "      <th>197666</th>\n",
       "      <td>68636.55</td>\n",
       "      <td>1008990.36</td>\n",
       "      <td>1077626.91</td>\n",
       "      <td>1406091.02</td>\n",
       "    </tr>\n",
       "    <tr>\n",
       "      <th>431839</th>\n",
       "      <td>21339.04</td>\n",
       "      <td>925.00</td>\n",
       "      <td>0.00</td>\n",
       "      <td>462950.26</td>\n",
       "    </tr>\n",
       "    <tr>\n",
       "      <th>6362375</th>\n",
       "      <td>457359.64</td>\n",
       "      <td>457359.64</td>\n",
       "      <td>0.00</td>\n",
       "      <td>160042.80</td>\n",
       "    </tr>\n",
       "    <tr>\n",
       "      <th>4183676</th>\n",
       "      <td>9640.04</td>\n",
       "      <td>16108.00</td>\n",
       "      <td>6467.96</td>\n",
       "      <td>0.00</td>\n",
       "    </tr>\n",
       "    <tr>\n",
       "      <th>1070149</th>\n",
       "      <td>1244037.74</td>\n",
       "      <td>1244037.74</td>\n",
       "      <td>0.00</td>\n",
       "      <td>0.00</td>\n",
       "    </tr>\n",
       "    <tr>\n",
       "      <th>1867058</th>\n",
       "      <td>253903.17</td>\n",
       "      <td>8714679.50</td>\n",
       "      <td>8968582.67</td>\n",
       "      <td>702181.16</td>\n",
       "    </tr>\n",
       "  </tbody>\n",
       "</table>\n",
       "</div>"
      ],
      "text/plain": [
       "             amount  oldbalanceOrg  newbalanceOrig  oldbalanceDest\n",
       "4887879   231687.47     3084930.34      3316617.81       365834.75\n",
       "6190127   272637.22      272637.22            0.00            0.00\n",
       "6168678   643052.88      643052.88            0.00            0.00\n",
       "6008693   119041.12      119041.12            0.00      1755159.60\n",
       "777627   7937954.20     7937954.20            0.00      2716480.56\n",
       "5188034   916644.03      916644.03            0.00            0.00\n",
       "6014702   146061.11      146061.11            0.00        37501.29\n",
       "6351302   105269.81      105269.81            0.00            0.00\n",
       "6196901     3778.19       53280.91        49502.72            0.00\n",
       "3611001  2271674.66     2271674.66            0.00            0.00\n",
       "5595678   122433.70           0.00            0.00       528155.00\n",
       "1622803    95348.33       95348.33            0.00            0.00\n",
       "1030327   325242.69      325242.69            0.00            0.00\n",
       "482420    306698.63      272842.00            0.00         1790.00\n",
       "5323782     7466.12        7466.12            0.00            0.00\n",
       "6055661  1416055.74     1416055.74            0.00            0.00\n",
       "2417463   134001.25        2770.00            0.00        42306.36\n",
       "2058343   332729.54           0.00            0.00       613712.35\n",
       "5990553  3118811.65     3118811.65            0.00      1163983.03\n",
       "4785682  2231580.50     2231580.50            0.00            0.00\n",
       "6281506    17733.57       17733.57            0.00            0.00\n",
       "5207757     5176.14    17786528.18     17791704.32        15281.61\n",
       "6281703   733119.42      733119.42            0.00      2751163.93\n",
       "5324212    26930.65           0.00            0.00       164453.36\n",
       "3188929   110989.45      288305.50       177316.05      5898843.37\n",
       "2458628   153610.90     6667321.23      6820932.13       207601.15\n",
       "3225805   402283.32      103594.00            0.00            0.00\n",
       "6053674   109729.30     1493839.37      1603568.66       225364.51\n",
       "5245651   111719.30      218407.00       330126.30        46410.91\n",
       "2813127   476321.80      476321.80            0.00            0.00\n",
       "6168735  8208916.00     8208916.00            0.00            0.00\n",
       "2676565     5688.00        5192.00            0.00            0.00\n",
       "575768    802382.45      802382.45            0.00            0.00\n",
       "3435271     7634.66       11558.00         3923.34            0.00\n",
       "722444     10826.82       26709.00        15882.18        46021.60\n",
       "904926    186229.89       35721.00       221950.89       622398.39\n",
       "6200815   884821.37      884821.37            0.00            0.00\n",
       "2310949   276609.64      999541.00      1276150.64       326855.40\n",
       "284351     16340.04      635371.83       619031.79            0.00\n",
       "3388431     7723.69       10952.00        18675.69      4517996.06\n",
       "4003541  2591775.40           0.00            0.00      2929905.52\n",
       "3749912   345533.89      345533.89            0.00       501951.83\n",
       "2176496    93341.22         221.00        93562.22        29059.76\n",
       "5638439     4284.32      107628.37       103344.05       250542.87\n",
       "197666     68636.55     1008990.36      1077626.91      1406091.02\n",
       "431839     21339.04         925.00            0.00       462950.26\n",
       "6362375   457359.64      457359.64            0.00       160042.80\n",
       "4183676     9640.04       16108.00         6467.96            0.00\n",
       "1070149  1244037.74     1244037.74            0.00            0.00\n",
       "1867058   253903.17     8714679.50      8968582.67       702181.16"
      ]
     },
     "execution_count": 121,
     "metadata": {},
     "output_type": "execute_result"
    }
   ],
   "source": [
    "X"
   ]
  },
  {
   "cell_type": "code",
   "execution_count": 148,
   "metadata": {},
   "outputs": [],
   "source": [
    "from sklearn.model_selection import cross_val_score,train_test_split\n",
    "X_train,X_test,Y_train,Y_test=train_test_split(X, Y, train_size=0.8)\n"
   ]
  },
  {
   "cell_type": "code",
   "execution_count": 149,
   "metadata": {},
   "outputs": [
    {
     "name": "stdout",
     "output_type": "stream",
     "text": [
      "LogisticRegression()\n",
      "model score:: 0.875\n",
      "[[1.00000000e+000 1.10554206e-206]\n",
      " [9.96218382e-001 3.78161776e-003]\n",
      " [1.15977451e-002 9.88402255e-001]\n",
      " [1.00000000e+000 1.51100334e-031]\n",
      " [1.00000000e+000 0.00000000e+000]\n",
      " [1.49992889e-002 9.85000711e-001]\n",
      " [4.87099995e-001 5.12900005e-001]\n",
      " [0.00000000e+000 1.00000000e+000]\n",
      " [5.35498664e-001 4.64501336e-001]\n",
      " [1.00000000e+000 0.00000000e+000]]\n",
      "Confusion Matrix\n",
      "[[6 0]\n",
      " [0 4]]\n"
     ]
    }
   ],
   "source": [
    "from sklearn import preprocessing\n",
    "from sklearn import utils\n",
    "\n",
    "model = LogisticRegression()\n",
    "print(model)\n",
    "\n",
    "model = model.fit(X_train,Y_train )\n",
    "ms = model.score(X_train,Y_train)\n",
    "print(\"model score::\",ms)\n",
    "\n",
    "probability = model.predict_proba(X_test)\n",
    "print(probability)\n",
    "#print(\"*\" * 100)\n",
    "print(\"Confusion Matrix\")\n",
    "predicted = model.predict(X_test)\n",
    "print(metrics.confusion_matrix(Y_test , predicted))"
   ]
  },
  {
   "cell_type": "code",
   "execution_count": 150,
   "metadata": {},
   "outputs": [
    {
     "name": "stdout",
     "output_type": "stream",
     "text": [
      "              precision    recall  f1-score   support\n",
      "\n",
      "           0       1.00      1.00      1.00         6\n",
      "           1       1.00      1.00      1.00         4\n",
      "\n",
      "    accuracy                           1.00        10\n",
      "   macro avg       1.00      1.00      1.00        10\n",
      "weighted avg       1.00      1.00      1.00        10\n",
      "\n"
     ]
    }
   ],
   "source": [
    "print(metrics.classification_report(Y_test, predicted))\n"
   ]
  },
  {
   "cell_type": "code",
   "execution_count": 151,
   "metadata": {},
   "outputs": [
    {
     "data": {
      "image/png": "[encoded data removed]",
      "text/plain": [
       "<Figure size 360x360 with 2 Axes>"
      ]
     },
     "metadata": {
      "needs_background": "light"
     },
     "output_type": "display_data"
    }
   ],
   "source": [
    "import seaborn as sns\n",
    "cm = metrics.confusion_matrix(Y_test , predicted)\n",
    "plt.figure(figsize=(5,5))\n",
    "sns.heatmap(cm, annot=True, fmt=\".0f\", linewidths=.8, square = True, cmap = 'Greens_r');\n",
    "plt.ylabel('Actual label');\n",
    "plt.xlabel('Predicted label');\n",
    "\n",
    "all_sample_title = 'Accuracy Score:{:0.3f}'.format(ms)\n",
    "plt.title(all_sample_title, size = 15);"
   ]
  },
  {
   "cell_type": "code",
   "execution_count": 152,
   "metadata": {},
   "outputs": [
    {
     "name": "stdout",
     "output_type": "stream",
     "text": [
      "1.0\n"
     ]
    },
    {
     "data": {
      "image/png": "[encoded data removed]",
      "text/plain": [
       "<Figure size 432x288 with 1 Axes>"
      ]
     },
     "metadata": {
      "needs_background": "light"
     },
     "output_type": "display_data"
    }
   ],
   "source": [
    "from sklearn import metrics\n",
    "preds = model.predict_proba(X_test)[:,1]\n",
    "fpr, tpr, _ = metrics.roc_curve(Y_test, preds)\n",
    "auc = metrics.auc(fpr,tpr)\n",
    "print(auc)\n",
    "plt.figure()\n",
    "fpr\n",
    "lw = 2\n",
    "plt.plot(fpr, tpr, color='darkorange', lw=lw, label='ROC curve (area = %0.2f)' % auc)\n",
    "plt.plot([0, 1], [0, 1], color='navy', lw=lw, linestyle='--')\n",
    "plt.xlim([0.0, 1.0])\n",
    "plt.ylim([0.0, 1.05])\n",
    "plt.xlabel('False Positive Rate')\n",
    "plt.ylabel('True Positive Rate')\n",
    "plt.legend(loc=\"lower right\")\n",
    "plt.show()\n"
   ]
  },
  {
   "cell_type": "code",
   "execution_count": 160,
   "metadata": {},
   "outputs": [
    {
     "name": "stdout",
     "output_type": "stream",
     "text": [
      "Your Model Accuracy is 0.8\n"
     ]
    }
   ],
   "source": [
    "from sklearn import svm\n",
    "from sklearn.metrics import accuracy_score\n",
    "C = 1.0 # SVM regularization parameter\n",
    "\n",
    "svc = svm.SVC(kernel='linear', C=1,gamma=1).fit(X, Y)\n",
    "predicted= svc.predict(X)\n",
    "score = accuracy_score(Y,predicted)\n",
    "print(\"Your Model Accuracy is\", score)\n",
    "\n"
   ]
  },
  {
   "cell_type": "code",
   "execution_count": 161,
   "metadata": {},
   "outputs": [
    {
     "data": {
      "image/png": "[encoded data removed]",
      "text/plain": [
       "<Figure size 432x288 with 1 Axes>"
      ]
     },
     "metadata": {
      "needs_background": "light"
     },
     "output_type": "display_data"
    }
   ],
   "source": [
    "plt.scatter(X[:,0], X[:, 1], c=Y, cmap=plt.cm.rainbow_r)\n",
    "plt.xlabel('amount')\n",
    "plt.ylabel('oldbalanceOrg')\n",
    "plt.title('SVC with linear , After Filter')\n",
    "plt.show()\n"
   ]
  },
  {
   "cell_type": "code",
   "execution_count": null,
   "metadata": {},
   "outputs": [],
   "source": []
  }
 ],
 "metadata": {
  "kernelspec": {
   "display_name": "Python 3",
   "language": "python",
   "name": "python3"
  },
  "language_info": {
   "codemirror_mode": {
    "name": "ipython",
    "version": 3
   },
   "file_extension": ".py",
   "mimetype": "text/x-python",
   "name": "python",
   "nbconvert_exporter": "python",
   "pygments_lexer": "ipython3",
   "version": "3.8.5"
  }
 },
 "nbformat": 4,
 "nbformat_minor": 4
}
